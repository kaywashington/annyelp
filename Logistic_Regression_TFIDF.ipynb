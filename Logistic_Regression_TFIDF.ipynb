{
  "nbformat": 4,
  "nbformat_minor": 0,
  "metadata": {
    "colab": {
      "provenance": []
    },
    "kernelspec": {
      "name": "python3",
      "display_name": "Python 3"
    },
    "language_info": {
      "name": "python"
    }
  },
  "cells": [
    {
      "cell_type": "code",
      "execution_count": null,
      "metadata": {
        "id": "5O87A3ARLDtW"
      },
      "outputs": [],
      "source": [
        "!pip install numpy pandas\n",
        "!pip install sklearn"
      ]
    },
    {
      "cell_type": "code",
      "source": [
        "import re\n",
        "import string\n",
        "import pandas as pd\n",
        "import nltk\n",
        "from nltk.tokenize import word_tokenize\n",
        "from nltk.corpus import stopwords\n",
        "from nltk.stem import WordNetLemmatizer\n",
        "nltk.download('stopwords')\n",
        "nltk.download('wordnet')\n",
        "\n",
        "yelp_df = pd.read_csv(\"yelp.csv\")\n",
        "\n",
        "# CLEAN TEXT\n",
        "\n",
        "def clean(text):\n",
        "  text = text.lower()\n",
        "  text = re.sub(r'\\d+', '', text)\n",
        "  text = text.translate(str.maketrans('', '', string.punctuation))\n",
        "  text = re.sub(r'\\W', ' ', text)\n",
        "  return text\n",
        "\n",
        "yelp_df['text'] = yelp_df['text'].apply(clean)\n",
        "\n",
        "# tokenization\n",
        "yelp_df['text'] = yelp_df['text'].apply(word_tokenize)\n",
        "\n",
        "# stopwords\n",
        "\n",
        "stop_words = set(stopwords.words('english'))\n",
        "\n",
        "def remove_stop(text):\n",
        "  return [word for word in text if word not in stop_words]\n",
        "\n",
        "yelp_df['text'] = yelp_df['text'].apply(remove_stop)\n",
        "\n",
        "# lemmatization\n",
        "\n",
        "lemmatizer = WordNetLemmatizer()\n",
        "\n",
        "def lem(text):\n",
        "  return [lemmatizer.lemmatize(word) for word in text]\n",
        "\n",
        "yelp_df['text'] = yelp_df['text'].apply(lem)\n",
        "\n"
      ],
      "metadata": {
        "id": "TwpsEmUgLW2D",
        "colab": {
          "base_uri": "https://localhost:8080/"
        },
        "outputId": "bbef9e54-f1ad-4d44-d0e2-46907dff7a66"
      },
      "execution_count": null,
      "outputs": [
        {
          "output_type": "stream",
          "name": "stderr",
          "text": [
            "[nltk_data] Downloading package punkt_tab to /root/nltk_data...\n",
            "[nltk_data]   Package punkt_tab is already up-to-date!\n",
            "[nltk_data] Downloading package stopwords to /root/nltk_data...\n",
            "[nltk_data]   Package stopwords is already up-to-date!\n",
            "[nltk_data] Downloading package wordnet to /root/nltk_data...\n",
            "[nltk_data]   Package wordnet is already up-to-date!\n"
          ]
        }
      ]
    },
    {
      "cell_type": "code",
      "source": [
        "# change stars so that there are 3 categories\n",
        "\n",
        "def change_stars(stars):\n",
        "  if stars > 3:\n",
        "    return 2\n",
        "  elif stars < 3:\n",
        "    return 0\n",
        "  else:\n",
        "    return 1\n",
        "\n",
        "\n",
        "yelp_df[\"stars\"] = yelp_df[\"stars\"].apply(change_stars)"
      ],
      "metadata": {
        "id": "FWTHveO4Y35D"
      },
      "execution_count": null,
      "outputs": []
    },
    {
      "cell_type": "code",
      "source": [
        "#SAMPLING\n",
        "from sklearn.model_selection import train_test_split\n",
        "\n",
        "X = yelp_df['text']\n",
        "y = yelp_df['stars']\n",
        "\n",
        "X_train, X_test, y_train, y_test = train_test_split(X, y, test_size = 0.2, random_state = 47, stratify = y)"
      ],
      "metadata": {
        "id": "a5Kyo0AiMAtz"
      },
      "execution_count": null,
      "outputs": []
    },
    {
      "cell_type": "code",
      "source": [
        "# baseline model using logistic regression with TF-IDF features\n",
        "\n",
        "from sklearn.feature_extraction.text import TfidfVectorizer\n",
        "from sklearn.linear_model import LogisticRegression\n",
        "from sklearn.metrics import classification_report\n",
        "\n",
        "\n",
        "tfidfvectorizer = TfidfVectorizer()\n",
        "\n",
        "X_train_base = X_train.apply(lambda tokens: \" \".join(tokens))\n",
        "X_test_base = X_test.apply(lambda tokens: \" \".join(tokens))\n",
        "\n",
        "x_train_vector = tfidfvectorizer.fit_transform(X_train_base)\n",
        "x_test_vector = tfidfvectorizer.transform(X_test_base)\n",
        "\n",
        "logreg = LogisticRegression(random_state=47, solver=\"lbfgs\")\n",
        "logreg.fit(x_train_vector, y_train)\n",
        "\n",
        "y_pred = logreg.predict(x_test_vector)\n",
        "\n",
        "print(classification_report(y_test, y_pred))"
      ],
      "metadata": {
        "id": "UTJGIQZNMMAN",
        "colab": {
          "base_uri": "https://localhost:8080/"
        },
        "outputId": "38dc9213-4493-42cb-b0f8-bb7383bd8f98"
      },
      "execution_count": null,
      "outputs": [
        {
          "output_type": "stream",
          "name": "stdout",
          "text": [
            "              precision    recall  f1-score   support\n",
            "\n",
            "           0       0.81      0.53      0.64       335\n",
            "           1       0.51      0.15      0.23       292\n",
            "           2       0.79      0.98      0.88      1373\n",
            "\n",
            "    accuracy                           0.78      2000\n",
            "   macro avg       0.70      0.55      0.58      2000\n",
            "weighted avg       0.75      0.78      0.74      2000\n",
            "\n"
          ]
        }
      ]
    },
    {
      "cell_type": "code",
      "source": [
        "nyt_df = pd.read_csv(\"nyt.csv\")\n",
        "\n",
        "# clean text\n",
        "\n",
        "nyt_df['text'] = nyt_df['text'].apply(clean)\n",
        "\n",
        "# tokenization\n",
        "nyt_df['text'] = nyt_df['text'].apply(word_tokenize)\n",
        "\n",
        "# stopwords\n",
        "\n",
        "stop_words = set(stopwords.words('english'))\n",
        "\n",
        "nyt_df['text'] = nyt_df['text'].apply(remove_stop)\n",
        "\n",
        "# lemmatization\n",
        "\n",
        "lemmatizer = WordNetLemmatizer()\n",
        "\n",
        "nyt_df['text'] = nyt_df['text'].apply(lem)"
      ],
      "metadata": {
        "id": "y2yf2Im9ZJv0"
      },
      "execution_count": null,
      "outputs": []
    },
    {
      "cell_type": "code",
      "source": [
        "# use model on NYT data\n",
        "X_nyt = nyt_df['text'].apply(lambda tokens: \" \".join(tokens))\n",
        "X_nyt_vector = tfidfvectorizer.transform(X_nyt)\n",
        "\n",
        "y_test_nyt = nyt_df['stars'].values\n",
        "\n",
        "y_pred_nyt = logreg.predict(X_nyt_vector)\n",
        "print(classification_report(y_test_nyt, y_pred_nyt))\n",
        "\n"
      ],
      "metadata": {
        "colab": {
          "base_uri": "https://localhost:8080/"
        },
        "id": "3jQgupe8a9fc",
        "outputId": "4e244373-e0a6-4e49-a54d-8322e91d44ec"
      },
      "execution_count": null,
      "outputs": [
        {
          "output_type": "stream",
          "name": "stdout",
          "text": [
            "              precision    recall  f1-score   support\n",
            "\n",
            "           0       0.75      0.30      0.43        10\n",
            "           1       0.00      0.00      0.00        10\n",
            "           2       0.38      1.00      0.56        10\n",
            "\n",
            "    accuracy                           0.43        30\n",
            "   macro avg       0.38      0.43      0.33        30\n",
            "weighted avg       0.38      0.43      0.33        30\n",
            "\n"
          ]
        },
        {
          "output_type": "stream",
          "name": "stderr",
          "text": [
            "/usr/local/lib/python3.11/dist-packages/sklearn/metrics/_classification.py:1565: UndefinedMetricWarning: Precision is ill-defined and being set to 0.0 in labels with no predicted samples. Use `zero_division` parameter to control this behavior.\n",
            "  _warn_prf(average, modifier, f\"{metric.capitalize()} is\", len(result))\n",
            "/usr/local/lib/python3.11/dist-packages/sklearn/metrics/_classification.py:1565: UndefinedMetricWarning: Precision is ill-defined and being set to 0.0 in labels with no predicted samples. Use `zero_division` parameter to control this behavior.\n",
            "  _warn_prf(average, modifier, f\"{metric.capitalize()} is\", len(result))\n",
            "/usr/local/lib/python3.11/dist-packages/sklearn/metrics/_classification.py:1565: UndefinedMetricWarning: Precision is ill-defined and being set to 0.0 in labels with no predicted samples. Use `zero_division` parameter to control this behavior.\n",
            "  _warn_prf(average, modifier, f\"{metric.capitalize()} is\", len(result))\n"
          ]
        }
      ]
    }
  ]
}